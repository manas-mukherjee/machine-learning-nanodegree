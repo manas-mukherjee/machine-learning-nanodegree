{
 "cells": [
  {
   "cell_type": "code",
   "execution_count": 3,
   "id": "0ed449ca",
   "metadata": {},
   "outputs": [],
   "source": [
    "class Clothing:\n",
    "    def __init__(self, color, size, price):\n",
    "        self.color = color \n",
    "        self.size = size \n",
    "        self.price = price \n",
    "        \n",
    "    def change_price(self, new_price):\n",
    "        self.price = new_price \n",
    "        \n",
    "    def calculate_discount(self, discount):\n",
    "        return this.price * (1 - discount)"
   ]
  },
  {
   "cell_type": "code",
   "execution_count": 13,
   "id": "2ac4b726",
   "metadata": {},
   "outputs": [],
   "source": [
    "class Shirt(Clothing):\n",
    "    def __init__(self, color, size, price, long_or_short):\n",
    "        Clothing.__init__(self, color, size, price)\n",
    "        self.long_or_short = long_or_short\n",
    "        \n",
    "    def double_price(self):\n",
    "        self.price = 2*self.price \n",
    "        return self.price "
   ]
  },
  {
   "cell_type": "code",
   "execution_count": 17,
   "id": "91ae5714",
   "metadata": {},
   "outputs": [],
   "source": [
    "shirt = Shirt('red', 'XL', 79, 'long')"
   ]
  },
  {
   "cell_type": "code",
   "execution_count": 18,
   "id": "18a06f18",
   "metadata": {},
   "outputs": [
    {
     "name": "stdout",
     "output_type": "stream",
     "text": [
      "red\n",
      "XL\n",
      "79\n",
      "long\n"
     ]
    }
   ],
   "source": [
    "print(shirt.color)\n",
    "print(shirt.size)\n",
    "print(shirt.price)\n",
    "print(shirt.long_or_short)"
   ]
  },
  {
   "cell_type": "code",
   "execution_count": 19,
   "id": "e85d19d2",
   "metadata": {},
   "outputs": [
    {
     "name": "stdout",
     "output_type": "stream",
     "text": [
      "158\n"
     ]
    }
   ],
   "source": [
    "print(shirt.double_price())"
   ]
  },
  {
   "cell_type": "code",
   "execution_count": 20,
   "id": "e74d3e2e",
   "metadata": {},
   "outputs": [
    {
     "name": "stdout",
     "output_type": "stream",
     "text": [
      "158\n"
     ]
    }
   ],
   "source": [
    "print(shirt.price)"
   ]
  },
  {
   "cell_type": "code",
   "execution_count": 29,
   "id": "fd9e2ecc",
   "metadata": {},
   "outputs": [
    {
     "name": "stderr",
     "output_type": "stream",
     "text": [
      "..\n",
      "----------------------------------------------------------------------\n",
      "Ran 2 tests in 0.001s\n",
      "\n",
      "OK\n"
     ]
    },
    {
     "data": {
      "text/plain": [
       "<unittest.runner.TextTestResult run=2 errors=0 failures=0>"
      ]
     },
     "execution_count": 29,
     "metadata": {},
     "output_type": "execute_result"
    }
   ],
   "source": [
    "# Unit tests to check your solution\n",
    "\n",
    "import unittest\n",
    "\n",
    "class TestClothingClass(unittest.TestCase):\n",
    "    def setUp(self):\n",
    "        self.clothing = Clothing('red', 'XL', 79)\n",
    "        self.shirt = Shirt('green', 'M', 79, 'short')\n",
    "        \n",
    "    def test_initialization(self): \n",
    "        self.assertEqual(self.clothing.color, 'red', 'color should be orange')\n",
    "        self.assertEqual(self.clothing.price, 79, 'incorrect price')\n",
    "        \n",
    "        self.assertEqual(self.shirt.color, 'green', 'color should be blue')\n",
    "        self.assertEqual(self.shirt.long_or_short, 'short', 'it should be short')\n",
    "        \n",
    "    def test_change_price(self): \n",
    "        self.shirt.change_price(151)\n",
    "        self.assertEqual(self.shirt.price, 151, 'new price should be 151') \n",
    "    \n",
    "tests = TestClothingClass()\n",
    "\n",
    "tests_loaded = unittest.TestLoader().loadTestsFromModule(tests)\n",
    "\n",
    "unittest.TextTestRunner().run(tests_loaded)"
   ]
  },
  {
   "cell_type": "code",
   "execution_count": null,
   "id": "5ac6cd45",
   "metadata": {},
   "outputs": [],
   "source": []
  }
 ],
 "metadata": {
  "kernelspec": {
   "display_name": "Python 3",
   "language": "python",
   "name": "python3"
  },
  "language_info": {
   "codemirror_mode": {
    "name": "ipython",
    "version": 3
   },
   "file_extension": ".py",
   "mimetype": "text/x-python",
   "name": "python",
   "nbconvert_exporter": "python",
   "pygments_lexer": "ipython3",
   "version": "3.8.3"
  }
 },
 "nbformat": 4,
 "nbformat_minor": 5
}
